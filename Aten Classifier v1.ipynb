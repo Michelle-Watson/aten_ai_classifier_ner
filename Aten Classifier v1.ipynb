{
 "cells": [
  {
   "cell_type": "markdown",
   "metadata": {
    "id": "QI7Vi5TYw5iF"
   },
   "source": [
    "# Baseline NLP Modeling Notebook"
   ]
  },
  {
   "cell_type": "code",
   "execution_count": 5,
   "metadata": {
    "executionInfo": {
     "elapsed": 37,
     "status": "ok",
     "timestamp": 1749942646768,
     "user": {
      "displayName": "Michelle Watson",
      "userId": "17231362491534516747"
     },
     "user_tz": 240
    },
    "id": "r9GnJRS1BBUo"
   },
   "outputs": [
    {
     "ename": "ModuleNotFoundError",
     "evalue": "No module named 'tensorflow'",
     "output_type": "error",
     "traceback": [
      "\u001b[31m---------------------------------------------------------------------------\u001b[39m",
      "\u001b[31mModuleNotFoundError\u001b[39m                       Traceback (most recent call last)",
      "\u001b[36mCell\u001b[39m\u001b[36m \u001b[39m\u001b[32mIn[5]\u001b[39m\u001b[32m, line 6\u001b[39m\n\u001b[32m      4\u001b[39m \u001b[38;5;28;01mfrom\u001b[39;00m\u001b[38;5;250m \u001b[39m\u001b[34;01msklearn\u001b[39;00m\u001b[34;01m.\u001b[39;00m\u001b[34;01mpreprocessing\u001b[39;00m\u001b[38;5;250m \u001b[39m\u001b[38;5;28;01mimport\u001b[39;00m LabelEncoder\n\u001b[32m      5\u001b[39m \u001b[38;5;28;01mfrom\u001b[39;00m\u001b[38;5;250m \u001b[39m\u001b[34;01mtransformers\u001b[39;00m\u001b[38;5;250m \u001b[39m\u001b[38;5;28;01mimport\u001b[39;00m DistilBertTokenizerFast, DistilBertForSequenceClassification, Trainer, TrainingArguments\n\u001b[32m----> \u001b[39m\u001b[32m6\u001b[39m \u001b[38;5;28;01mfrom\u001b[39;00m\u001b[38;5;250m \u001b[39m\u001b[34;01mtransformers\u001b[39;00m\u001b[34;01m.\u001b[39;00m\u001b[34;01mkeras_callbacks\u001b[39;00m\u001b[38;5;250m \u001b[39m\u001b[38;5;28;01mimport\u001b[39;00m KerasMetricCallback\n\u001b[32m      7\u001b[39m \u001b[38;5;28;01mimport\u001b[39;00m\u001b[38;5;250m \u001b[39m\u001b[34;01mtorch\u001b[39;00m\n\u001b[32m      8\u001b[39m \u001b[38;5;28;01mfrom\u001b[39;00m\u001b[38;5;250m \u001b[39m\u001b[34;01mdatasets\u001b[39;00m\u001b[38;5;250m \u001b[39m\u001b[38;5;28;01mimport\u001b[39;00m Dataset\n",
      "\u001b[36mFile \u001b[39m\u001b[32mg:\\Libraries\\OneDrive - McMaster University\\McMaster Docs (MAC)\\Work\\FT Job\\Aten Security\\.venv\\Lib\\site-packages\\transformers\\keras_callbacks.py:8\u001b[39m\n\u001b[32m      5\u001b[39m \u001b[38;5;28;01mfrom\u001b[39;00m\u001b[38;5;250m \u001b[39m\u001b[34;01mtyping\u001b[39;00m\u001b[38;5;250m \u001b[39m\u001b[38;5;28;01mimport\u001b[39;00m Callable, Optional, Union\n\u001b[32m      7\u001b[39m \u001b[38;5;28;01mimport\u001b[39;00m\u001b[38;5;250m \u001b[39m\u001b[34;01mnumpy\u001b[39;00m\u001b[38;5;250m \u001b[39m\u001b[38;5;28;01mas\u001b[39;00m\u001b[38;5;250m \u001b[39m\u001b[34;01mnp\u001b[39;00m\n\u001b[32m----> \u001b[39m\u001b[32m8\u001b[39m \u001b[38;5;28;01mimport\u001b[39;00m\u001b[38;5;250m \u001b[39m\u001b[34;01mtensorflow\u001b[39;00m\u001b[38;5;250m \u001b[39m\u001b[38;5;28;01mas\u001b[39;00m\u001b[38;5;250m \u001b[39m\u001b[34;01mtf\u001b[39;00m\n\u001b[32m      9\u001b[39m \u001b[38;5;28;01mfrom\u001b[39;00m\u001b[38;5;250m \u001b[39m\u001b[34;01mhuggingface_hub\u001b[39;00m\u001b[38;5;250m \u001b[39m\u001b[38;5;28;01mimport\u001b[39;00m Repository, create_repo\n\u001b[32m     10\u001b[39m \u001b[38;5;28;01mfrom\u001b[39;00m\u001b[38;5;250m \u001b[39m\u001b[34;01mpackaging\u001b[39;00m\u001b[34;01m.\u001b[39;00m\u001b[34;01mversion\u001b[39;00m\u001b[38;5;250m \u001b[39m\u001b[38;5;28;01mimport\u001b[39;00m parse\n",
      "\u001b[31mModuleNotFoundError\u001b[39m: No module named 'tensorflow'"
     ]
    }
   ],
   "source": [
    "# 1. Imports\n",
    "import pandas as pd\n",
    "from sklearn.model_selection import train_test_split\n",
    "from sklearn.preprocessing import LabelEncoder\n",
    "from transformers import DistilBertTokenizerFast, DistilBertForSequenceClassification, Trainer, TrainingArguments\n",
    "from transformers.keras_callbacks import KerasMetricCallback\n",
    "import torch\n",
    "from datasets import Dataset\n",
    "from pprint import pprint\n",
    "\n",
    "# DeepSeek - to avoid it asking for my API key midway\n",
    "import os\n",
    "wandb_api_key = \"1a489be8947a5bbf94fcc41855e40beaab35312e\"\n",
    "os.environ['WANDB_API_KEY'] = wandb_api_key\n",
    "# os.environ['WANDB_SILENT'] = 'true'  # Reduces output noise\n",
    "\n",
    "# Imports to produce metrics and graphs for assessing model\n",
    "import wandb # learning how to use it\n",
    "import matplotlib.pyplot as plt\n",
    "from sklearn.metrics import accuracy_score, f1_score, precision_score, recall_score, confusion_matrix, classification_report\n",
    "import seaborn as sns"
   ]
  },
  {
   "cell_type": "code",
   "execution_count": 9,
   "metadata": {
    "colab": {
     "base_uri": "https://localhost:8080/"
    },
    "executionInfo": {
     "elapsed": 739,
     "status": "ok",
     "timestamp": 1749942647516,
     "user": {
      "displayName": "Michelle Watson",
      "userId": "17231362491534516747"
     },
     "user_tz": 240
    },
    "id": "i5_n0t2Wwuv0",
    "outputId": "c2dc0c3c-c55d-4534-b126-387ea5aa1a52"
   },
   "outputs": [
    {
     "name": "stdout",
     "output_type": "stream",
     "text": [
      "Drive already mounted at /content/drive; to attempt to forcibly remount, call drive.mount(\"/content/drive\", force_remount=True).\n"
     ]
    }
   ],
   "source": [
    "# 2. Load Classification Dataset\n",
    "from google.colab import drive\n",
    "drive.mount('/content/drive')\n",
    "file_path_drive = '/content/drive/MyDrive/BrainStation/ML Dream/takehome/security/classification_data.csv'\n",
    "classification_df = pd.read_csv(file_path_drive)"
   ]
  },
  {
   "cell_type": "code",
   "execution_count": 10,
   "metadata": {
    "colab": {
     "base_uri": "https://localhost:8080/",
     "height": 206
    },
    "executionInfo": {
     "elapsed": 8,
     "status": "ok",
     "timestamp": 1749942647517,
     "user": {
      "displayName": "Michelle Watson",
      "userId": "17231362491534516747"
     },
     "user_tz": 240
    },
    "id": "vmvZQb01Rl8j",
    "outputId": "7fa9f1c4-c9b1-4f24-e531-2d8e563a0281"
   },
   "outputs": [
    {
     "data": {
      "application/vnd.google.colaboratory.intrinsic+json": {
       "summary": "{\n  \"name\": \"classification_df\",\n  \"rows\": 1000,\n  \"fields\": [\n    {\n      \"column\": \"id\",\n      \"properties\": {\n        \"dtype\": \"number\",\n        \"std\": 288,\n        \"min\": 1,\n        \"max\": 1000,\n        \"num_unique_values\": 1000,\n        \"samples\": [\n          522,\n          738,\n          741\n        ],\n        \"semantic_type\": \"\",\n        \"description\": \"\"\n      }\n    },\n    {\n      \"column\": \"text\",\n      \"properties\": {\n        \"dtype\": \"category\",\n        \"num_unique_values\": 15,\n        \"samples\": [\n          \"Marked improvement in blood pressure control was achieved with DrugE.\",\n          \"The patient experienced nausea after taking DrugX.\",\n          \"DrugZ caused severe rashes in some participants.\"\n        ],\n        \"semantic_type\": \"\",\n        \"description\": \"\"\n      }\n    },\n    {\n      \"column\": \"label\",\n      \"properties\": {\n        \"dtype\": \"category\",\n        \"num_unique_values\": 3,\n        \"samples\": [\n          \"Adverse Effect\",\n          \"Positive Outcome\",\n          \"Neutral Observation\"\n        ],\n        \"semantic_type\": \"\",\n        \"description\": \"\"\n      }\n    }\n  ]\n}",
       "type": "dataframe",
       "variable_name": "classification_df"
      },
      "text/html": [
       "\n",
       "  <div id=\"df-a696ddfc-e6f2-4c15-a27c-6fc0487df142\" class=\"colab-df-container\">\n",
       "    <div>\n",
       "<style scoped>\n",
       "    .dataframe tbody tr th:only-of-type {\n",
       "        vertical-align: middle;\n",
       "    }\n",
       "\n",
       "    .dataframe tbody tr th {\n",
       "        vertical-align: top;\n",
       "    }\n",
       "\n",
       "    .dataframe thead th {\n",
       "        text-align: right;\n",
       "    }\n",
       "</style>\n",
       "<table border=\"1\" class=\"dataframe\">\n",
       "  <thead>\n",
       "    <tr style=\"text-align: right;\">\n",
       "      <th></th>\n",
       "      <th>id</th>\n",
       "      <th>text</th>\n",
       "      <th>label</th>\n",
       "    </tr>\n",
       "  </thead>\n",
       "  <tbody>\n",
       "    <tr>\n",
       "      <th>0</th>\n",
       "      <td>1</td>\n",
       "      <td>DrugZ caused severe rashes in some participants.</td>\n",
       "      <td>Adverse Effect</td>\n",
       "    </tr>\n",
       "    <tr>\n",
       "      <th>1</th>\n",
       "      <td>2</td>\n",
       "      <td>No significant side effects were observed duri...</td>\n",
       "      <td>Positive Outcome</td>\n",
       "    </tr>\n",
       "    <tr>\n",
       "      <th>2</th>\n",
       "      <td>3</td>\n",
       "      <td>Participants were monitored every two weeks.</td>\n",
       "      <td>Neutral Observation</td>\n",
       "    </tr>\n",
       "    <tr>\n",
       "      <th>3</th>\n",
       "      <td>4</td>\n",
       "      <td>Increased liver enzymes were noted post-treatm...</td>\n",
       "      <td>Adverse Effect</td>\n",
       "    </tr>\n",
       "    <tr>\n",
       "      <th>4</th>\n",
       "      <td>5</td>\n",
       "      <td>Patients were instructed to maintain a food di...</td>\n",
       "      <td>Neutral Observation</td>\n",
       "    </tr>\n",
       "  </tbody>\n",
       "</table>\n",
       "</div>\n",
       "    <div class=\"colab-df-buttons\">\n",
       "\n",
       "  <div class=\"colab-df-container\">\n",
       "    <button class=\"colab-df-convert\" onclick=\"convertToInteractive('df-a696ddfc-e6f2-4c15-a27c-6fc0487df142')\"\n",
       "            title=\"Convert this dataframe to an interactive table.\"\n",
       "            style=\"display:none;\">\n",
       "\n",
       "  <svg xmlns=\"http://www.w3.org/2000/svg\" height=\"24px\" viewBox=\"0 -960 960 960\">\n",
       "    <path d=\"M120-120v-720h720v720H120Zm60-500h600v-160H180v160Zm220 220h160v-160H400v160Zm0 220h160v-160H400v160ZM180-400h160v-160H180v160Zm440 0h160v-160H620v160ZM180-180h160v-160H180v160Zm440 0h160v-160H620v160Z\"/>\n",
       "  </svg>\n",
       "    </button>\n",
       "\n",
       "  <style>\n",
       "    .colab-df-container {\n",
       "      display:flex;\n",
       "      gap: 12px;\n",
       "    }\n",
       "\n",
       "    .colab-df-convert {\n",
       "      background-color: #E8F0FE;\n",
       "      border: none;\n",
       "      border-radius: 50%;\n",
       "      cursor: pointer;\n",
       "      display: none;\n",
       "      fill: #1967D2;\n",
       "      height: 32px;\n",
       "      padding: 0 0 0 0;\n",
       "      width: 32px;\n",
       "    }\n",
       "\n",
       "    .colab-df-convert:hover {\n",
       "      background-color: #E2EBFA;\n",
       "      box-shadow: 0px 1px 2px rgba(60, 64, 67, 0.3), 0px 1px 3px 1px rgba(60, 64, 67, 0.15);\n",
       "      fill: #174EA6;\n",
       "    }\n",
       "\n",
       "    .colab-df-buttons div {\n",
       "      margin-bottom: 4px;\n",
       "    }\n",
       "\n",
       "    [theme=dark] .colab-df-convert {\n",
       "      background-color: #3B4455;\n",
       "      fill: #D2E3FC;\n",
       "    }\n",
       "\n",
       "    [theme=dark] .colab-df-convert:hover {\n",
       "      background-color: #434B5C;\n",
       "      box-shadow: 0px 1px 3px 1px rgba(0, 0, 0, 0.15);\n",
       "      filter: drop-shadow(0px 1px 2px rgba(0, 0, 0, 0.3));\n",
       "      fill: #FFFFFF;\n",
       "    }\n",
       "  </style>\n",
       "\n",
       "    <script>\n",
       "      const buttonEl =\n",
       "        document.querySelector('#df-a696ddfc-e6f2-4c15-a27c-6fc0487df142 button.colab-df-convert');\n",
       "      buttonEl.style.display =\n",
       "        google.colab.kernel.accessAllowed ? 'block' : 'none';\n",
       "\n",
       "      async function convertToInteractive(key) {\n",
       "        const element = document.querySelector('#df-a696ddfc-e6f2-4c15-a27c-6fc0487df142');\n",
       "        const dataTable =\n",
       "          await google.colab.kernel.invokeFunction('convertToInteractive',\n",
       "                                                    [key], {});\n",
       "        if (!dataTable) return;\n",
       "\n",
       "        const docLinkHtml = 'Like what you see? Visit the ' +\n",
       "          '<a target=\"_blank\" href=https://colab.research.google.com/notebooks/data_table.ipynb>data table notebook</a>'\n",
       "          + ' to learn more about interactive tables.';\n",
       "        element.innerHTML = '';\n",
       "        dataTable['output_type'] = 'display_data';\n",
       "        await google.colab.output.renderOutput(dataTable, element);\n",
       "        const docLink = document.createElement('div');\n",
       "        docLink.innerHTML = docLinkHtml;\n",
       "        element.appendChild(docLink);\n",
       "      }\n",
       "    </script>\n",
       "  </div>\n",
       "\n",
       "\n",
       "    <div id=\"df-2c69fa2c-0146-477d-b44f-9f66eee5cf1c\">\n",
       "      <button class=\"colab-df-quickchart\" onclick=\"quickchart('df-2c69fa2c-0146-477d-b44f-9f66eee5cf1c')\"\n",
       "                title=\"Suggest charts\"\n",
       "                style=\"display:none;\">\n",
       "\n",
       "<svg xmlns=\"http://www.w3.org/2000/svg\" height=\"24px\"viewBox=\"0 0 24 24\"\n",
       "     width=\"24px\">\n",
       "    <g>\n",
       "        <path d=\"M19 3H5c-1.1 0-2 .9-2 2v14c0 1.1.9 2 2 2h14c1.1 0 2-.9 2-2V5c0-1.1-.9-2-2-2zM9 17H7v-7h2v7zm4 0h-2V7h2v10zm4 0h-2v-4h2v4z\"/>\n",
       "    </g>\n",
       "</svg>\n",
       "      </button>\n",
       "\n",
       "<style>\n",
       "  .colab-df-quickchart {\n",
       "      --bg-color: #E8F0FE;\n",
       "      --fill-color: #1967D2;\n",
       "      --hover-bg-color: #E2EBFA;\n",
       "      --hover-fill-color: #174EA6;\n",
       "      --disabled-fill-color: #AAA;\n",
       "      --disabled-bg-color: #DDD;\n",
       "  }\n",
       "\n",
       "  [theme=dark] .colab-df-quickchart {\n",
       "      --bg-color: #3B4455;\n",
       "      --fill-color: #D2E3FC;\n",
       "      --hover-bg-color: #434B5C;\n",
       "      --hover-fill-color: #FFFFFF;\n",
       "      --disabled-bg-color: #3B4455;\n",
       "      --disabled-fill-color: #666;\n",
       "  }\n",
       "\n",
       "  .colab-df-quickchart {\n",
       "    background-color: var(--bg-color);\n",
       "    border: none;\n",
       "    border-radius: 50%;\n",
       "    cursor: pointer;\n",
       "    display: none;\n",
       "    fill: var(--fill-color);\n",
       "    height: 32px;\n",
       "    padding: 0;\n",
       "    width: 32px;\n",
       "  }\n",
       "\n",
       "  .colab-df-quickchart:hover {\n",
       "    background-color: var(--hover-bg-color);\n",
       "    box-shadow: 0 1px 2px rgba(60, 64, 67, 0.3), 0 1px 3px 1px rgba(60, 64, 67, 0.15);\n",
       "    fill: var(--button-hover-fill-color);\n",
       "  }\n",
       "\n",
       "  .colab-df-quickchart-complete:disabled,\n",
       "  .colab-df-quickchart-complete:disabled:hover {\n",
       "    background-color: var(--disabled-bg-color);\n",
       "    fill: var(--disabled-fill-color);\n",
       "    box-shadow: none;\n",
       "  }\n",
       "\n",
       "  .colab-df-spinner {\n",
       "    border: 2px solid var(--fill-color);\n",
       "    border-color: transparent;\n",
       "    border-bottom-color: var(--fill-color);\n",
       "    animation:\n",
       "      spin 1s steps(1) infinite;\n",
       "  }\n",
       "\n",
       "  @keyframes spin {\n",
       "    0% {\n",
       "      border-color: transparent;\n",
       "      border-bottom-color: var(--fill-color);\n",
       "      border-left-color: var(--fill-color);\n",
       "    }\n",
       "    20% {\n",
       "      border-color: transparent;\n",
       "      border-left-color: var(--fill-color);\n",
       "      border-top-color: var(--fill-color);\n",
       "    }\n",
       "    30% {\n",
       "      border-color: transparent;\n",
       "      border-left-color: var(--fill-color);\n",
       "      border-top-color: var(--fill-color);\n",
       "      border-right-color: var(--fill-color);\n",
       "    }\n",
       "    40% {\n",
       "      border-color: transparent;\n",
       "      border-right-color: var(--fill-color);\n",
       "      border-top-color: var(--fill-color);\n",
       "    }\n",
       "    60% {\n",
       "      border-color: transparent;\n",
       "      border-right-color: var(--fill-color);\n",
       "    }\n",
       "    80% {\n",
       "      border-color: transparent;\n",
       "      border-right-color: var(--fill-color);\n",
       "      border-bottom-color: var(--fill-color);\n",
       "    }\n",
       "    90% {\n",
       "      border-color: transparent;\n",
       "      border-bottom-color: var(--fill-color);\n",
       "    }\n",
       "  }\n",
       "</style>\n",
       "\n",
       "      <script>\n",
       "        async function quickchart(key) {\n",
       "          const quickchartButtonEl =\n",
       "            document.querySelector('#' + key + ' button');\n",
       "          quickchartButtonEl.disabled = true;  // To prevent multiple clicks.\n",
       "          quickchartButtonEl.classList.add('colab-df-spinner');\n",
       "          try {\n",
       "            const charts = await google.colab.kernel.invokeFunction(\n",
       "                'suggestCharts', [key], {});\n",
       "          } catch (error) {\n",
       "            console.error('Error during call to suggestCharts:', error);\n",
       "          }\n",
       "          quickchartButtonEl.classList.remove('colab-df-spinner');\n",
       "          quickchartButtonEl.classList.add('colab-df-quickchart-complete');\n",
       "        }\n",
       "        (() => {\n",
       "          let quickchartButtonEl =\n",
       "            document.querySelector('#df-2c69fa2c-0146-477d-b44f-9f66eee5cf1c button');\n",
       "          quickchartButtonEl.style.display =\n",
       "            google.colab.kernel.accessAllowed ? 'block' : 'none';\n",
       "        })();\n",
       "      </script>\n",
       "    </div>\n",
       "\n",
       "    </div>\n",
       "  </div>\n"
      ],
      "text/plain": [
       "   id                                               text                label\n",
       "0   1   DrugZ caused severe rashes in some participants.       Adverse Effect\n",
       "1   2  No significant side effects were observed duri...     Positive Outcome\n",
       "2   3       Participants were monitored every two weeks.  Neutral Observation\n",
       "3   4  Increased liver enzymes were noted post-treatm...       Adverse Effect\n",
       "4   5  Patients were instructed to maintain a food di...  Neutral Observation"
      ]
     },
     "execution_count": 10,
     "metadata": {},
     "output_type": "execute_result"
    }
   ],
   "source": [
    "classification_df.head()"
   ]
  },
  {
   "cell_type": "code",
   "execution_count": 11,
   "metadata": {
    "colab": {
     "base_uri": "https://localhost:8080/",
     "height": 140
    },
    "executionInfo": {
     "elapsed": 12,
     "status": "ok",
     "timestamp": 1749942647526,
     "user": {
      "displayName": "Michelle Watson",
      "userId": "17231362491534516747"
     },
     "user_tz": 240
    },
    "id": "fA-q3L2TxZYo",
    "outputId": "9d251cf2-29dd-4740-cff0-bf6d84a4c157"
   },
   "outputs": [
    {
     "name": "stdout",
     "output_type": "stream",
     "text": [
      "Class Distribution:\n",
      "label\n",
      "Adverse Effect         352\n",
      "Neutral Observation    335\n",
      "Positive Outcome       313\n",
      "Name: count, dtype: int64\n"
     ]
    },
    {
     "data": {
      "application/vnd.google.colaboratory.intrinsic+json": {
       "type": "string"
      },
      "text/plain": [
       "'\\nAdverse Effect         352\\nNeutral Observation    335\\nPositive Outcome       313\\n'"
      ]
     },
     "execution_count": 11,
     "metadata": {},
     "output_type": "execute_result"
    }
   ],
   "source": [
    "# check if dataset is balanced\n",
    "label_counts = classification_df['label'].value_counts()\n",
    "print(\"Class Distribution:\")\n",
    "print(label_counts)\n",
    "\n",
    "\"\"\"\n",
    "Adverse Effect         352\n",
    "Neutral Observation    335\n",
    "Positive Outcome       313\n",
    "\"\"\""
   ]
  },
  {
   "cell_type": "code",
   "execution_count": 12,
   "metadata": {
    "colab": {
     "base_uri": "https://localhost:8080/",
     "height": 338
    },
    "executionInfo": {
     "elapsed": 125951,
     "status": "ok",
     "timestamp": 1749942773486,
     "user": {
      "displayName": "Michelle Watson",
      "userId": "17231362491534516747"
     },
     "user_tz": 240
    },
    "id": "BjZPaEJVwlYV",
    "outputId": "8fe32f16-9f57-44f3-d674-52f1e0b84111"
   },
   "outputs": [
    {
     "name": "stderr",
     "output_type": "stream",
     "text": [
      "Some weights of DistilBertForSequenceClassification were not initialized from the model checkpoint at distilbert-base-uncased and are newly initialized: ['classifier.bias', 'classifier.weight', 'pre_classifier.bias', 'pre_classifier.weight']\n",
      "You should probably TRAIN this model on a down-stream task to be able to use it for predictions and inference.\n"
     ]
    },
    {
     "data": {
      "text/html": [
       "\n",
       "    <div>\n",
       "      \n",
       "      <progress value='50' max='50' style='width:300px; height:20px; vertical-align: middle;'></progress>\n",
       "      [50/50 01:55, Epoch 1/1]\n",
       "    </div>\n",
       "    <table border=\"1\" class=\"dataframe\">\n",
       "  <thead>\n",
       " <tr style=\"text-align: left;\">\n",
       "      <th>Epoch</th>\n",
       "      <th>Training Loss</th>\n",
       "      <th>Validation Loss</th>\n",
       "      <th>Accuracy</th>\n",
       "      <th>F1 Macro</th>\n",
       "      <th>Precision Macro</th>\n",
       "      <th>Recall Macro</th>\n",
       "    </tr>\n",
       "  </thead>\n",
       "  <tbody>\n",
       "    <tr>\n",
       "      <td>1</td>\n",
       "      <td>0.269400</td>\n",
       "      <td>0.223602</td>\n",
       "      <td>1.000000</td>\n",
       "      <td>1.000000</td>\n",
       "      <td>1.000000</td>\n",
       "      <td>1.000000</td>\n",
       "    </tr>\n",
       "  </tbody>\n",
       "</table><p>"
      ],
      "text/plain": [
       "<IPython.core.display.HTML object>"
      ]
     },
     "metadata": {},
     "output_type": "display_data"
    },
    {
     "data": {
      "text/html": [
       "\n",
       "    <div>\n",
       "      \n",
       "      <progress value='13' max='13' style='width:300px; height:20px; vertical-align: middle;'></progress>\n",
       "      [13/13 00:04]\n",
       "    </div>\n",
       "    "
      ],
      "text/plain": [
       "<IPython.core.display.HTML object>"
      ]
     },
     "metadata": {},
     "output_type": "display_data"
    },
    {
     "name": "stdout",
     "output_type": "stream",
     "text": [
      "{'epoch': 1.0,\n",
      " 'eval_accuracy': 1.0,\n",
      " 'eval_f1_macro': 1.0,\n",
      " 'eval_loss': 0.223601832985878,\n",
      " 'eval_precision_macro': 1.0,\n",
      " 'eval_recall_macro': 1.0,\n",
      " 'eval_runtime': 4.6898,\n",
      " 'eval_samples_per_second': 42.646,\n",
      " 'eval_steps_per_second': 2.772}\n"
     ]
    }
   ],
   "source": [
    "# 3. Encode Labels\n",
    "label_encoder = LabelEncoder()\n",
    "classification_df['label_encoded'] = label_encoder.fit_transform(classification_df['label'])\n",
    "\n",
    "# 4. Train-Test Split\n",
    "train_texts, val_texts, train_labels, val_labels = train_test_split(\n",
    "    classification_df['text'].tolist(),\n",
    "    classification_df['label_encoded'].tolist(),\n",
    "    test_size=0.2,\n",
    "    random_state=42\n",
    ")\n",
    "\n",
    "# 5. Tokenization\n",
    "tokenizer = DistilBertTokenizerFast.from_pretrained('distilbert-base-uncased')\n",
    "\n",
    "train_encodings = tokenizer(train_texts, truncation=True, padding=True)\n",
    "val_encodings = tokenizer(val_texts, truncation=True, padding=True)\n",
    "\n",
    "# 6. Dataset Class\n",
    "torch.backends.cuda.matmul.allow_tf32 = True\n",
    "\n",
    "class ClassificationDataset(torch.utils.data.Dataset):\n",
    "    def __init__(self, encodings, labels):\n",
    "        self.encodings = encodings\n",
    "        self.labels = labels\n",
    "\n",
    "    def __getitem__(self, idx):\n",
    "        item = {key: torch.tensor(val[idx]) for key, val in self.encodings.items()}\n",
    "        item['labels'] = torch.tensor(self.labels[idx])\n",
    "        return item\n",
    "\n",
    "    def __len__(self):\n",
    "        return len(self.labels)\n",
    "\n",
    "train_dataset = ClassificationDataset(train_encodings, train_labels)\n",
    "val_dataset = ClassificationDataset(val_encodings, val_labels)\n",
    "\n",
    "# 7. Model\n",
    "model = DistilBertForSequenceClassification.from_pretrained(\"distilbert-base-uncased\", num_labels=len(label_encoder.classes_))\n",
    "\n",
    "# 8a. Training Arguments\n",
    "training_args = TrainingArguments(\n",
    "    output_dir=\"/tmp/results\", # default name of run on wandb.ai if run_name not specified\n",
    "    eval_strategy=\"epoch\", # changed evaluation_strategy=\"epoch\" -> eval_strategy bc of DeepSeek, confirmed with: https://github.com/huggingface/setfit/issues/512\n",
    "    learning_rate=2e-5,\n",
    "    per_device_train_batch_size=16,\n",
    "    per_device_eval_batch_size=16,\n",
    "    num_train_epochs=1, # way too low\n",
    "    weight_decay=0.01,\n",
    "    logging_dir=\"/tmp/logs\",\n",
    "    logging_steps=10,\n",
    "    save_strategy=\"no\",\n",
    "    load_best_model_at_end=False,\n",
    "    report_to=\"wandb\",  # Explicitly tell it to use W&B (rec from DeepSeek)\n",
    "    run_name=\"helix-classification_v1\"  # Custom run name, specificy v1 for using default notebook\n",
    ")\n",
    "\n",
    "# 8b. Custom metrics function to pass to: Transformers Trainer method\n",
    "# compute_metrics must take a EvalPrediction and return a dictionary string to metric values\n",
    "def compute_metrics(pred):\n",
    "    labels = pred.label_ids # label_ids (np.ndarray) — Targets to be matched.\n",
    "\n",
    "    # DeepSeek helping me to understand the following line\n",
    "    preds = pred.predictions.argmax(-1) # logit predictions (np.ndarray) — Predictions of the model.\n",
    "    # Find the position of the highest number (most likely category) in each row\n",
    "    # The last dimension is always the class scores, sowe look at (-1)\n",
    "\n",
    "    return {\n",
    "        'accuracy': accuracy_score(labels, preds),\n",
    "        'f1_macro': f1_score(labels, preds, average='macro'),\n",
    "        'precision_macro': precision_score(labels, preds, average='macro'),\n",
    "        'recall_macro': recall_score(labels, preds, average='macro')\n",
    "    }\n",
    "\n",
    "# 9. Trainer: https://huggingface.co/docs/transformers/en/main_classes/trainer\n",
    "trainer = Trainer(\n",
    "    model=model,\n",
    "    args=training_args,\n",
    "    train_dataset=train_dataset,\n",
    "    eval_dataset=val_dataset,\n",
    "    compute_metrics=compute_metrics # Added for metrics\n",
    ")\n",
    "\n",
    "# 10. Train\n",
    "trainer.train()\n",
    "history = trainer.state.log_history\n",
    "\n",
    "# 11. Evaluation\n",
    "metrics = trainer.evaluate()\n",
    "pprint(metrics)"
   ]
  },
  {
   "cell_type": "markdown",
   "metadata": {
    "id": "Tmzax9iEH7IG"
   },
   "source": [
    "## 11. Evaluation\n",
    "\n",
    "https://rstudio-conf-2020.github.io/dl-keras-tf/notebooks/learning-curve-diagnostics.nb.html"
   ]
  },
  {
   "cell_type": "code",
   "execution_count": 21,
   "metadata": {
    "colab": {
     "base_uri": "https://localhost:8080/",
     "height": 559
    },
    "executionInfo": {
     "elapsed": 323,
     "status": "ok",
     "timestamp": 1749949438726,
     "user": {
      "displayName": "Michelle Watson",
      "userId": "17231362491534516747"
     },
     "user_tz": 240
    },
    "id": "Am8_lUp0ApJe",
    "outputId": "873088f7-a95a-475f-f988-2e063ea42a25"
   },
   "outputs": [
    {
     "name": "stdout",
     "output_type": "stream",
     "text": [
      "\n",
      "Evaluation Metrics:\n",
      "Validation Loss: 0.224\n",
      "Validation Accuracy: 1.000\n",
      "F1 Score: 1.000\n"
     ]
    },
    {
     "data": {
      "image/png": "[encoded data removed]",
      "text/plain": [
       "<Figure size 640x480 with 1 Axes>"
      ]
     },
     "metadata": {},
     "output_type": "display_data"
    }
   ],
   "source": [
    "print(\"\\nEvaluation Metrics:\")\n",
    "print(f\"Validation Loss: {metrics['eval_loss']:.3f}\")\n",
    "print(f\"Validation Accuracy: {metrics['eval_accuracy']:.3f}\")\n",
    "print(f\"F1 Score: {metrics['eval_f1_macro']:.3f}\")\n",
    "\n",
    "# Extract metrics for plotting\n",
    "train_loss = [x['loss'] for x in history if 'loss' in x]\n",
    "val_loss = [x['eval_loss'] for x in history if 'eval_loss' in x]\n",
    "val_acc = [x['eval_accuracy'] for x in history if 'eval_accuracy' in x]\n",
    "val_f1 = [x['eval_f1_macro'] for x in history if 'eval_f1_macro' in x]\n",
    "\n",
    "# In-notebook plots\n",
    "# plt.figure(figsize=(15, 5))\n",
    "\n",
    "# Loss plot\n",
    "# plt.subplot(1, 3, 1)\n",
    "plt.plot(train_loss, label='Train')\n",
    "plt.plot(val_loss, label='Validation')\n",
    "plt.title('Training & Validation Loss')\n",
    "plt.xlabel('Epoch')\n",
    "plt.ylabel('Loss')\n",
    "plt.legend()\n",
    "\n",
    "# Accuracy plot\n",
    "# plt.subplot(1, 3, 2)\n",
    "# plt.plot(val_acc, label='Validation')\n",
    "# plt.title('Validation Accuracy')\n",
    "# plt.xlabel('Epoch')\n",
    "# plt.ylabel('Accuracy')\n",
    "# plt.legend()\n",
    "\n",
    "# # F1 plot\n",
    "# plt.subplot(1, 3, 3)\n",
    "# plt.plot(val_f1, label='Validation')\n",
    "# plt.title('Validation F1 Score')\n",
    "# plt.xlabel('Epoch')\n",
    "# plt.ylabel('F1 (Macro)')\n",
    "# plt.legend()\n",
    "\n",
    "# plt.tight_layout()\n",
    "plt.show()"
   ]
  },
  {
   "cell_type": "code",
   "execution_count": 14,
   "metadata": {
    "colab": {
     "base_uri": "https://localhost:8080/",
     "height": 312
    },
    "executionInfo": {
     "elapsed": 5841,
     "status": "ok",
     "timestamp": 1749942780042,
     "user": {
      "displayName": "Michelle Watson",
      "userId": "17231362491534516747"
     },
     "user_tz": 240
    },
    "id": "lyZikoRaR59c",
    "outputId": "8152c55a-c80b-4d34-f335-8790f3214791"
   },
   "outputs": [
    {
     "data": {
      "text/html": [],
      "text/plain": [
       "<IPython.core.display.HTML object>"
      ]
     },
     "metadata": {},
     "output_type": "display_data"
    },
    {
     "name": "stdout",
     "output_type": "stream",
     "text": [
      "\n",
      "Confusion Matrix:\n",
      "[[72  0  0]\n",
      " [ 0 62  0]\n",
      " [ 0  0 66]]\n",
      "\n",
      "Classification Report:\n",
      "                     precision    recall  f1-score   support\n",
      "\n",
      "     Adverse Effect       1.00      1.00      1.00        72\n",
      "Neutral Observation       1.00      1.00      1.00        62\n",
      "   Positive Outcome       1.00      1.00      1.00        66\n",
      "\n",
      "           accuracy                           1.00       200\n",
      "          macro avg       1.00      1.00      1.00       200\n",
      "       weighted avg       1.00      1.00      1.00       200\n",
      "\n"
     ]
    }
   ],
   "source": [
    "# Final evaluation\n",
    "predictions = trainer.predict(val_dataset)\n",
    "preds = predictions.predictions.argmax(-1)\n",
    "\n",
    "# Confusion Matrix - raw text\n",
    "print(\"\\nConfusion Matrix:\")\n",
    "conf_matrix = confusion_matrix(val_labels, preds)\n",
    "print(conf_matrix)\n",
    "\n",
    "# Classification Report\n",
    "print(\"\\nClassification Report:\")\n",
    "print(classification_report(val_labels, preds, target_names=label_encoder.classes_))"
   ]
  },
  {
   "cell_type": "code",
   "execution_count": 15,
   "metadata": {
    "colab": {
     "base_uri": "https://localhost:8080/",
     "height": 722
    },
    "executionInfo": {
     "elapsed": 289,
     "status": "ok",
     "timestamp": 1749942780335,
     "user": {
      "displayName": "Michelle Watson",
      "userId": "17231362491534516747"
     },
     "user_tz": 240
    },
    "id": "ucpicf0aQGNo",
    "outputId": "1b773725-ff59-49d8-9ef7-d705af62efdd"
   },
   "outputs": [
    {
     "data": {
      "image/png": "[encoded data removed]",
      "text/plain": [
       "<Figure size 900x600 with 2 Axes>"
      ]
     },
     "metadata": {},
     "output_type": "display_data"
    }
   ],
   "source": [
    "def print_confusion_matrix(confusion_matrix, class_names, figsize = (9,6), fontsize=14):\n",
    "    \"\"\"Prints a confusion matrix, as returned by sklearn.metrics.confusion_matrix, as a heatmap.\n",
    "\n",
    "    Arguments\n",
    "    ---------\n",
    "    confusion_matrix: numpy.ndarray\n",
    "        The numpy.ndarray object returned from a call to sklearn.metrics.confusion_matrix.\n",
    "        Similarly constructed ndarrays can also be used.\n",
    "    class_names: list\n",
    "        An ordered list of class names, in the order they index the given confusion matrix.\n",
    "    figsize: tuple\n",
    "        A 2-long tuple, the first value determining the horizontal size of the ouputted figure,\n",
    "        the second determining the vertical size. Defaults to (10,7).\n",
    "    fontsize: int\n",
    "        Font size for axes labels. Defaults to 14.\n",
    "\n",
    "    Returns\n",
    "    -------\n",
    "    matplotlib.figure.Figure\n",
    "        The resulting confusion matrix figure\n",
    "    \"\"\"\n",
    "    df_cm = pd.DataFrame(\n",
    "        confusion_matrix, index=class_names, columns=class_names,\n",
    "    )\n",
    "    fig = plt.figure(figsize=figsize)\n",
    "    try:\n",
    "        heatmap = sns.heatmap(df_cm, annot=True, fmt=\"d\")\n",
    "    except ValueError:\n",
    "        raise ValueError(\"Confusion matrix values must be integers.\")\n",
    "\n",
    "    heatmap.yaxis.set_ticklabels(heatmap.yaxis.get_ticklabels(), rotation=0, ha='right', fontsize=fontsize)\n",
    "    heatmap.xaxis.set_ticklabels(heatmap.xaxis.get_ticklabels(), rotation=45, ha='right', fontsize=fontsize)\n",
    "    plt.ylabel('True label')\n",
    "    plt.xlabel('Predicted label')\n",
    "\n",
    "class_names = ['Adverse Effect', 'Neutral Observation', 'Positive Outcome']\n",
    "print_confusion_matrix(conf_matrix, class_names)\n",
    "plt.title('Clinical Text Classification Performance', pad=20)\n",
    "plt.show()"
   ]
  },
  {
   "cell_type": "markdown",
   "metadata": {
    "id": "LNYTl7f23sqy"
   },
   "source": [
    "# Deliverable 4: Examples\n",
    "- Show model predictions on at least 5 example sentences"
   ]
  },
  {
   "cell_type": "code",
   "execution_count": 16,
   "metadata": {
    "colab": {
     "base_uri": "https://localhost:8080/"
    },
    "executionInfo": {
     "elapsed": 329,
     "status": "ok",
     "timestamp": 1749942780665,
     "user": {
      "displayName": "Michelle Watson",
      "userId": "17231362491534516747"
     },
     "user_tz": 240
    },
    "id": "fl9wi0BK4J6O",
    "outputId": "316b25a1-dd64-427e-ea36-df07acd6b8ee"
   },
   "outputs": [
    {
     "name": "stdout",
     "output_type": "stream",
     "text": [
      "\n",
      "Sample Predictions:\n",
      "Text: Patient reported severe nausea after medication administration.\n",
      "Prediction: Adverse Effect\n",
      "\n",
      "Text: Patient reported nausea after medication administration.\n",
      "Prediction: Adverse Effect\n",
      "\n",
      "Text: Patient avoided severe complications after medication administration.\n",
      "Prediction: Adverse Effect\n",
      "\n",
      "Text: The treatment resulted in significant improvement of symptoms.\n",
      "Prediction: Positive Outcome\n",
      "\n",
      "Text: The treatment resulted in improvement of symptoms.\n",
      "Prediction: Positive Outcome\n",
      "\n",
      "Text: Blood pressure was measured at 120/80 mmHg.\n",
      "Prediction: Neutral Observation\n",
      "\n"
     ]
    }
   ],
   "source": [
    "# 12. Make predictions on sample text (DeepSeek generated)\n",
    "def predict(text):\n",
    "    inputs = tokenizer(text, return_tensors=\"pt\", truncation=True, padding=True)\n",
    "    with torch.no_grad():\n",
    "        outputs = model(**inputs)\n",
    "    logits = outputs.logits\n",
    "    predicted_class = torch.argmax(logits, dim=1).item()\n",
    "    return label_encoder.inverse_transform([predicted_class])[0]\n",
    "\n",
    "# Test predictions\n",
    "sample_texts = [\n",
    "    # AI generated examples\n",
    "    \"Patient reported severe nausea after medication administration.\", # generated\n",
    "    \"The treatment resulted in significant improvement of symptoms.\", # generated\n",
    "    \"Blood pressure was measured at 120/80 mmHg.\", # generated\n",
    "\n",
    "    # Modified AI generated examples\n",
    "    \"Patient reported nausea after medication administration.\", # removed word 'severe' to see if it can still guess ADVERSE\n",
    "    \"Patient avoided severe complications after medication administration.\", # try 'AVOID SEVERE' together, misclassified\n",
    "    \"The treatment resulted in improvement of symptoms.\", # removed word 'significant'to see if it can still guess POSITIVE\n",
    "]\n",
    "\n",
    "print(\"\\nSample Predictions:\")\n",
    "for text in sample_texts:\n",
    "    print(f\"Text: {text}\")\n",
    "    print(f\"Prediction: {predict(text)}\\n\")"
   ]
  },
  {
   "cell_type": "markdown",
   "metadata": {
    "id": "RcxdE59d824u"
   },
   "source": [
    "## Try it yourself with your own sentences"
   ]
  },
  {
   "cell_type": "code",
   "execution_count": 22,
   "metadata": {
    "colab": {
     "base_uri": "https://localhost:8080/"
    },
    "executionInfo": {
     "elapsed": 398,
     "status": "ok",
     "timestamp": 1749950765980,
     "user": {
      "displayName": "Michelle Watson",
      "userId": "17231362491534516747"
     },
     "user_tz": 240
    },
    "id": "043nTfk982a_",
    "outputId": "b81f8a3d-40e7-4b09-f706-b3372f80ae21"
   },
   "outputs": [
    {
     "name": "stdout",
     "output_type": "stream",
     "text": [
      "\n",
      "Sample Predictions:\n",
      "Text: Irrelevant text.\n",
      "Prediction: Neutral Observation\n",
      "\n"
     ]
    }
   ],
   "source": [
    "# Test predictions\n",
    "sample_texts_custom = [\n",
    "    \"Irrelevant text.\"\n",
    "]\n",
    "\n",
    "print(\"\\nSample Predictions:\")\n",
    "for text in sample_texts_custom:\n",
    "    print(f\"Text: {text}\")\n",
    "    print(f\"Prediction: {predict(text)}\\n\")"
   ]
  }
 ],
 "metadata": {
  "colab": {
   "provenance": []
  },
  "kernelspec": {
   "display_name": ".venv",
   "language": "python",
   "name": "python3"
  },
  "language_info": {
   "codemirror_mode": {
    "name": "ipython",
    "version": 3
   },
   "file_extension": ".py",
   "mimetype": "text/x-python",
   "name": "python",
   "nbconvert_exporter": "python",
   "pygments_lexer": "ipython3",
   "version": "3.12.10"
  }
 },
 "nbformat": 4,
 "nbformat_minor": 0
}
